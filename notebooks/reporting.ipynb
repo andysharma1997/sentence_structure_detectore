{
 "cells": [
  {
   "cell_type": "code",
   "execution_count": 1,
   "metadata": {},
   "outputs": [],
   "source": [
    "import pandas as pd"
   ]
  },
  {
   "cell_type": "code",
   "execution_count": 2,
   "metadata": {},
   "outputs": [],
   "source": [
    "df = pd.read_excel(\"/home/andy/Desktop/razor_lq_data_tags.xlsx\")"
   ]
  },
  {
   "cell_type": "code",
   "execution_count": 3,
   "metadata": {},
   "outputs": [
    {
     "data": {
      "text/plain": [
       "Index(['Unnamed: 0', 'Unnamed: 1'], dtype='object')"
      ]
     },
     "execution_count": 3,
     "metadata": {},
     "output_type": "execute_result"
    }
   ],
   "source": [
    "df.columns"
   ]
  },
  {
   "cell_type": "code",
   "execution_count": 4,
   "metadata": {},
   "outputs": [],
   "source": [
    "sentences = df[\"Unnamed: 0\"].to_list()"
   ]
  },
  {
   "cell_type": "code",
   "execution_count": 5,
   "metadata": {},
   "outputs": [
    {
     "data": {
      "text/plain": [
       "['Which class does your child study in?',\n",
       " 'which standard is he in?',\n",
       " 'How many marks did he get in his exams?',\n",
       " 'How did he grade in the exams?',\n",
       " 'How many marks did he get in the assessments?',\n",
       " 'How much did he score in the assessment?',\n",
       " 'whom are you looking at his course for?',\n",
       " 'whom are you searching the course for?',\n",
       " 'whom are you searching this program for?',\n",
       " 'Who will be taking this course?',\n",
       " 'Who will be applying for this course?',\n",
       " 'Are you looking at this course for your son?',\n",
       " 'Which school is he is studying in?',\n",
       " 'Which instituition does he go to?',\n",
       " 'where does he study',\n",
       " 'where does he do his schooling',\n",
       " 'Which board is he studying in?',\n",
       " 'Which board is your child studying in?',\n",
       " 'which syllabus is he studying',\n",
       " 'which syllabus is the child studying in?',\n",
       " 'what is the curriculum',\n",
       " 'his programs are affiliated to which board',\n",
       " 'are you the head of the sales team',\n",
       " 'Do you head the sales team?',\n",
       " 'how do you manage your marketing efforts',\n",
       " 'how do you take care of your marketing efforts',\n",
       " 'How is marketing work handled in your company?',\n",
       " 'how is the data entered into your system',\n",
       " 'How do you enter the data?',\n",
       " 'What do you do for data entering?',\n",
       " 'How do you insert the data in your system?',\n",
       " \"Don't you want visibility into the customer engagement\",\n",
       " 'Would you like to have clarity on customer engagemnet?',\n",
       " 'Would you like to have a peek inside customer conversations?',\n",
       " 'Are you curious to know how to improve your conversion rate?',\n",
       " 'Would you be interested in knowing how to enhance your conversions?',\n",
       " 'Do you want to know how to enhance the conversion rate of your sales team?',\n",
       " 'Whom are you purchasing this mattress',\n",
       " 'whom are you buying this mattress for',\n",
       " ' whom are you getting this mattress',\n",
       " 'who will be using this mattress',\n",
       " 'who will be sleeping in the mattress',\n",
       " 'who will be needing this bed',\n",
       " 'who will be sleeping in this bed',\n",
       " 'whow is going to be using this cot',\n",
       " 'who will be needing this mattress',\n",
       " 'What is your bed size',\n",
       " 'what size do you want the mattress to be',\n",
       " 'what is the cot size',\n",
       " 'do you know the measurements of the bed',\n",
       " 'what is the measurment of you bed',\n",
       " 'what size mattress do you need',\n",
       " 'what is the measurement of your cot',\n",
       " 'how big is your cot',\n",
       " 'what size is your bed',\n",
       " 'what size mattress do you currently use',\n",
       " 'In which city do you currently live',\n",
       " 'where do you live',\n",
       " 'where are you located',\n",
       " 'where is your house',\n",
       " 'where do you reside',\n",
       " 'where are you put up',\n",
       " 'which area are you in',\n",
       " 'where is your house located',\n",
       " 'which place are you in',\n",
       " 'do you have any preference in color',\n",
       " 'do you have any specific color in mind',\n",
       " 'do you require the mattress to be of any particular color',\n",
       " 'do you prefer any color',\n",
       " 'do you want any specific color',\n",
       " 'do you prefer blue or green ',\n",
       " 'any color preferences',\n",
       " 'any particular color in mind',\n",
       " 'Is this your first home',\n",
       " 'is this your first house',\n",
       " 'Have you purchased a house',\n",
       " 'Have you bought a house before',\n",
       " 'are you buying a house for the first time',\n",
       " 'is this your first purchase',\n",
       " 'Are you going to rent out this house',\n",
       " 'will you be renting this house out',\n",
       " 'will you be using this house for rent',\n",
       " 'are you looking for tenants',\n",
       " 'are you going to lease the house',\n",
       " 'Do you have any specific requirement',\n",
       " 'do you have any particular requirement',\n",
       " 'do you need anything in specific',\n",
       " 'do you have any definite requirement',\n",
       " 'do you have any particular demand',\n",
       " 'are you looking for something in particular',\n",
       " 'any particular preferenece',\n",
       " 'anything in specific',\n",
       " 'any need in particular',\n",
       " 'do you want anything in special',\n",
       " 'Is the house for your own use',\n",
       " 'will you be using the home for yourself',\n",
       " 'is this home for own purpose',\n",
       " 'is this house for self use',\n",
       " 'is this house for self purpose',\n",
       " 'will you be residing in the house',\n",
       " 'will you be staying with your family in  the house',\n",
       " 'will you be occupying the house',\n",
       " 'will you and your family be using the house',\n",
       " 'is this house for yourself',\n",
       " 'will you be living in this house',\n",
       " 'Is the house an apartment',\n",
       " 'is this house a flat',\n",
       " 'is this house a condo',\n",
       " 'is it a cooperative society',\n",
       " 'is this a penthouse',\n",
       " 'are these living quarters']"
      ]
     },
     "execution_count": 5,
     "metadata": {},
     "output_type": "execute_result"
    }
   ],
   "source": [
    "sentences"
   ]
  },
  {
   "cell_type": "code",
   "execution_count": 9,
   "metadata": {},
   "outputs": [],
   "source": [
    "import requests\n",
    "import json\n",
    "def make_request(sentence):\n",
    "    url = \"http://35.244.25.4:9999/sequence_match?sentence={}\".format(sentence)\n",
    "    response = requests.request(\"GET\", url)\n",
    "\n",
    "    return json.loads(response.text)\n"
   ]
  },
  {
   "cell_type": "code",
   "execution_count": 10,
   "metadata": {},
   "outputs": [],
   "source": [
    "data = []\n",
    "for sentence in sentences:\n",
    "    data.append(make_request(sentence))"
   ]
  },
  {
   "cell_type": "code",
   "execution_count": 35,
   "metadata": {},
   "outputs": [],
   "source": [
    "cnt=0\n",
    "final_data = []\n",
    "for sen,item in zip(sentences,data):\n",
    "    try:\n",
    "        final_data.append({\"sentence\":sen,\"same_pattern_sentences\":item['matching_pattern_sentences'],\"pattern_found\":item['pattern_matched']['sequence']})\n",
    "    except KeyError as exe:\n",
    "        pass"
   ]
  },
  {
   "cell_type": "code",
   "execution_count": 38,
   "metadata": {},
   "outputs": [],
   "source": [
    "df = pd.DataFrame(final_data)"
   ]
  },
  {
   "cell_type": "code",
   "execution_count": 39,
   "metadata": {},
   "outputs": [
    {
     "data": {
      "text/html": [
       "<div>\n",
       "<style scoped>\n",
       "    .dataframe tbody tr th:only-of-type {\n",
       "        vertical-align: middle;\n",
       "    }\n",
       "\n",
       "    .dataframe tbody tr th {\n",
       "        vertical-align: top;\n",
       "    }\n",
       "\n",
       "    .dataframe thead th {\n",
       "        text-align: right;\n",
       "    }\n",
       "</style>\n",
       "<table border=\"1\" class=\"dataframe\">\n",
       "  <thead>\n",
       "    <tr style=\"text-align: right;\">\n",
       "      <th></th>\n",
       "      <th>sentence</th>\n",
       "      <th>same_pattern_sentences</th>\n",
       "      <th>pattern_found</th>\n",
       "    </tr>\n",
       "  </thead>\n",
       "  <tbody>\n",
       "    <tr>\n",
       "      <th>0</th>\n",
       "      <td>Which class does your child study in?</td>\n",
       "      <td>[which class does your child study in, which b...</td>\n",
       "      <td>&lt;wquestion&gt;&lt;context_noun&gt;&lt;auxiliary&gt;&lt;determine...</td>\n",
       "    </tr>\n",
       "    <tr>\n",
       "      <th>1</th>\n",
       "      <td>which standard is he in?</td>\n",
       "      <td>[which standard is he in, which area are you i...</td>\n",
       "      <td>&lt;wquestion&gt;&lt;context_noun&gt;&lt;auxiliary&gt;&lt;pronoun&gt;&lt;...</td>\n",
       "    </tr>\n",
       "    <tr>\n",
       "      <th>2</th>\n",
       "      <td>How many marks did he get in his exams?</td>\n",
       "      <td>[how many marks did he get in his exams, how m...</td>\n",
       "      <td>&lt;wquestion&gt;&lt;adjective&gt;&lt;context_noun&gt;&lt;auxiliary...</td>\n",
       "    </tr>\n",
       "    <tr>\n",
       "      <th>3</th>\n",
       "      <td>How did he grade in the exams?</td>\n",
       "      <td>[how did he grade in the exams]</td>\n",
       "      <td>&lt;wquestion&gt;&lt;auxiliary&gt;&lt;pronoun&gt;&lt;context_verb&gt;&lt;...</td>\n",
       "    </tr>\n",
       "    <tr>\n",
       "      <th>4</th>\n",
       "      <td>How many marks did he get in the assessments?</td>\n",
       "      <td>[how many marks did he get in his exams, how m...</td>\n",
       "      <td>&lt;wquestion&gt;&lt;adjective&gt;&lt;context_noun&gt;&lt;auxiliary...</td>\n",
       "    </tr>\n",
       "  </tbody>\n",
       "</table>\n",
       "</div>"
      ],
      "text/plain": [
       "                                        sentence  \\\n",
       "0          Which class does your child study in?   \n",
       "1                       which standard is he in?   \n",
       "2        How many marks did he get in his exams?   \n",
       "3                 How did he grade in the exams?   \n",
       "4  How many marks did he get in the assessments?   \n",
       "\n",
       "                              same_pattern_sentences  \\\n",
       "0  [which class does your child study in, which b...   \n",
       "1  [which standard is he in, which area are you i...   \n",
       "2  [how many marks did he get in his exams, how m...   \n",
       "3                    [how did he grade in the exams]   \n",
       "4  [how many marks did he get in his exams, how m...   \n",
       "\n",
       "                                       pattern_found  \n",
       "0  <wquestion><context_noun><auxiliary><determine...  \n",
       "1  <wquestion><context_noun><auxiliary><pronoun><...  \n",
       "2  <wquestion><adjective><context_noun><auxiliary...  \n",
       "3  <wquestion><auxiliary><pronoun><context_verb><...  \n",
       "4  <wquestion><adjective><context_noun><auxiliary...  "
      ]
     },
     "execution_count": 39,
     "metadata": {},
     "output_type": "execute_result"
    }
   ],
   "source": [
    "df.head()"
   ]
  },
  {
   "cell_type": "code",
   "execution_count": 40,
   "metadata": {},
   "outputs": [],
   "source": [
    "df.to_excel(\"/home/andy/Desktop/pattern_matching_result.xlsx\")"
   ]
  },
  {
   "cell_type": "code",
   "execution_count": null,
   "metadata": {},
   "outputs": [],
   "source": []
  }
 ],
 "metadata": {
  "kernelspec": {
   "display_name": "Python3",
   "language": "python",
   "name": "python3"
  },
  "language_info": {
   "codemirror_mode": {
    "name": "ipython",
    "version": 3
   },
   "file_extension": ".py",
   "mimetype": "text/x-python",
   "name": "python",
   "nbconvert_exporter": "python",
   "pygments_lexer": "ipython3",
   "version": "3.6.8"
  }
 },
 "nbformat": 4,
 "nbformat_minor": 2
}
