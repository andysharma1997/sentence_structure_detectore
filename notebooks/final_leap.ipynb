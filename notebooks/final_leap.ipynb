{
 "cells": [
  {
   "cell_type": "code",
   "execution_count": 39,
   "metadata": {},
   "outputs": [],
   "source": [
    "import pandas as pd\n",
    "from sklearn.cluster import k_means\n",
    "from laserembeddings import Laser\n",
    "import re\n",
    "import spacy"
   ]
  },
  {
   "cell_type": "code",
   "execution_count": 40,
   "metadata": {},
   "outputs": [],
   "source": [
    "embed = Laser()\n",
    "nlp = spacy.load(\"en_core_web_sm\")"
   ]
  },
  {
   "cell_type": "code",
   "execution_count": 55,
   "metadata": {},
   "outputs": [],
   "source": [
    "df = pd.read_pickle(\"/home/andy/Desktop/sken_project/sentence_structure_detectore/src/resources/encoder.pkl\")"
   ]
  },
  {
   "cell_type": "code",
   "execution_count": 89,
   "metadata": {},
   "outputs": [],
   "source": [
    "context_noun = df.contextnoun.to_list()+df.domain_noun.to_list()+df.noun.to_list()\n",
    "question = df.wquestion.to_list()\n",
    "contex_verb = df.verb.to_list()+df.verv.to_list()\n"
   ]
  },
  {
   "cell_type": "code",
   "execution_count": 90,
   "metadata": {},
   "outputs": [],
   "source": [
    "encoder={\"context_noun\":context_noun,\"wquestions\":question,\"context_verb\":contex_verb}"
   ]
  },
  {
   "cell_type": "code",
   "execution_count": 96,
   "metadata": {},
   "outputs": [],
   "source": [
    "def clean_text(sentence):\n",
    "    return re.sub(r'[^a-zA-Z ]+', '', sentence).lower()\n",
    "\n",
    "    \n",
    "def tag_data(sentence):\n",
    "    text = clean_text(sentence)\n",
    "    doc = nlp(text)\n",
    "    resp = {\"sentence\":text,\"sequence\":''}\n",
    "    for tok in doc:\n",
    "        if 'W' in tok.tag_:\n",
    "            if str(tok) in encoder[\"wquestions\"]:\n",
    "                resp['sequence']+=\"<wquestion>\"\n",
    "        elif 'VERB' in tok.pos_:\n",
    "            if str(tok) in encoder[\"context_verb\"]:\n",
    "                resp[\"sequence\"]+='<context_verb>'\n",
    "        elif 'NOUN' in tok.pos_:\n",
    "            if str(tok) in encoder['context_noun']:\n",
    "                resp['sequence']+=\"<context_noun>\"\n",
    "        else:\n",
    "            resp['sequence']+='<'+str(spacy.explain(tok.pos_))+'>'\n",
    "    return resp\n",
    "            \n",
    "            \n",
    "            \n",
    "            "
   ]
  },
  {
   "cell_type": "code",
   "execution_count": 100,
   "metadata": {},
   "outputs": [],
   "source": [
    "data_df = pd.read_excel(\"/home/andy/Desktop/razor_lq_data_tags.xlsx\")"
   ]
  },
  {
   "cell_type": "code",
   "execution_count": 102,
   "metadata": {},
   "outputs": [],
   "source": [
    "sentences = data_df['Unnamed: 0'].to_list()"
   ]
  },
  {
   "cell_type": "code",
   "execution_count": 103,
   "metadata": {},
   "outputs": [],
   "source": [
    "from concurrent.futures import ThreadPoolExecutor\n",
    "with ThreadPoolExecutor(max_workers=50) as exe:\n",
    "    result = list(exe.map(tag_data,sentences))"
   ]
  },
  {
   "cell_type": "code",
   "execution_count": 127,
   "metadata": {},
   "outputs": [],
   "source": [
    "sequence_df = pd.DataFrame(result)\n",
    "sequence_df.to_pickle('/home/andy/Desktop/sken_project/sentence_structure_detectore/src/resources/sequence.pkl')"
   ]
  },
  {
   "cell_type": "code",
   "execution_count": 112,
   "metadata": {},
   "outputs": [],
   "source": [
    "mixd=pd.MultiIndex.from_frame(pd.DataFrame(result))"
   ]
  },
  {
   "cell_type": "code",
   "execution_count": 119,
   "metadata": {},
   "outputs": [],
   "source": [
    "check_seq='<wquestion><context_noun><auxiliary><determiner><context_noun><context_verb><adposition>'"
   ]
  },
  {
   "cell_type": "code",
   "execution_count": 120,
   "metadata": {},
   "outputs": [],
   "source": [
    "def return_idx(seq):\n",
    "    result = mixd.isin([seq],level=\"sequence\")\n",
    "    matched_idx =[]\n",
    "    for i,val in enumerate(result):\n",
    "        if val:\n",
    "            matched_idx.append(i)\n",
    "    return matched_idx"
   ]
  },
  {
   "cell_type": "code",
   "execution_count": 121,
   "metadata": {},
   "outputs": [
    {
     "data": {
      "text/plain": [
       "[0, 17]"
      ]
     },
     "execution_count": 121,
     "metadata": {},
     "output_type": "execute_result"
    }
   ],
   "source": [
    "return_idx(check_seq)"
   ]
  },
  {
   "cell_type": "code",
   "execution_count": 126,
   "metadata": {},
   "outputs": [
    {
     "data": {
      "text/plain": [
       "'which board is your child studying in'"
      ]
     },
     "execution_count": 126,
     "metadata": {},
     "output_type": "execute_result"
    }
   ],
   "source": []
  },
  {
   "cell_type": "code",
   "execution_count": 130,
   "metadata": {},
   "outputs": [],
   "source": [
    "import os "
   ]
  },
  {
   "cell_type": "code",
   "execution_count": 131,
   "metadata": {},
   "outputs": [
    {
     "data": {
      "text/plain": [
       "'/home/andy/Desktop/sken_project/sentence_structure_detectore/notebooks'"
      ]
     },
     "execution_count": 131,
     "metadata": {},
     "output_type": "execute_result"
    }
   ],
   "source": [
    "os.getcwd()"
   ]
  },
  {
   "cell_type": "code",
   "execution_count": null,
   "metadata": {},
   "outputs": [],
   "source": []
  }
 ],
 "metadata": {
  "kernelspec": {
   "display_name": "Python3",
   "language": "python",
   "name": "python3"
  },
  "language_info": {
   "codemirror_mode": {
    "name": "ipython",
    "version": 3
   },
   "file_extension": ".py",
   "mimetype": "text/x-python",
   "name": "python",
   "nbconvert_exporter": "python",
   "pygments_lexer": "ipython3",
   "version": "3.6.8"
  }
 },
 "nbformat": 4,
 "nbformat_minor": 2
}
