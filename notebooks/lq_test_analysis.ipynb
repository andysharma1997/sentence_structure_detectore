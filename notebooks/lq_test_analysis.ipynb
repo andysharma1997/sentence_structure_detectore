{
 "cells": [
  {
   "cell_type": "code",
   "execution_count": 1,
   "metadata": {},
   "outputs": [],
   "source": [
    "import pandas as pd\n",
    "import requests\n",
    "import json"
   ]
  },
  {
   "cell_type": "code",
   "execution_count": 2,
   "metadata": {},
   "outputs": [],
   "source": [
    "df = pd.read_excel('/home/andy/Downloads/Razor Model Testing Data.xlsx')"
   ]
  },
  {
   "cell_type": "code",
   "execution_count": 3,
   "metadata": {},
   "outputs": [
    {
     "data": {
      "text/plain": [
       "Index(['#', 'Organization', 'Root Sentence', 'Intent words', 'Unnamed: 4',\n",
       "       'Variation 1', 'Variation 2', 'Variation 3', 'Variation 4',\n",
       "       'Variation 5', 'Variation 6', 'Variation 7', 'Variation 8',\n",
       "       'Variation 9', 'Variation 10', 'Unnamed: 15', 'Unnamed: 16',\n",
       "       'Expected Number of Detections'],\n",
       "      dtype='object')"
      ]
     },
     "execution_count": 3,
     "metadata": {},
     "output_type": "execute_result"
    }
   ],
   "source": [
    "df.columns"
   ]
  },
  {
   "cell_type": "code",
   "execution_count": 4,
   "metadata": {},
   "outputs": [],
   "source": [
    "sentences=df['Root Sentence'].to_list()\n",
    "cols = []\n",
    "for i in range(10):\n",
    "    cols.append(\"Variation {}\".format(i+1))\n",
    "for i,value in df[cols].iterrows():\n",
    "    sentences.append(value[0])"
   ]
  },
  {
   "cell_type": "code",
   "execution_count": 5,
   "metadata": {},
   "outputs": [],
   "source": [
    "final_sentences=[]\n",
    "for i in sentences:\n",
    "    if type(i) != float:\n",
    "        final_sentences.append(i)"
   ]
  },
  {
   "cell_type": "code",
   "execution_count": 6,
   "metadata": {},
   "outputs": [],
   "source": [
    "def send_request(sentence):\n",
    "    url = \"http://localhost:9999/detect_lq?sentence={}\".format(sentence)\n",
    "    response = requests.request(\"GET\", url)\n",
    "    return json.loads(response.text)"
   ]
  },
  {
   "cell_type": "code",
   "execution_count": 17,
   "metadata": {},
   "outputs": [],
   "source": [
    "results = list(map(send_request,final_sentences))"
   ]
  },
  {
   "cell_type": "code",
   "execution_count": 8,
   "metadata": {},
   "outputs": [],
   "source": [
    "cnt=0\n",
    "for result in results:\n",
    "    for item in result:\n",
    "        if item['Is_lq']:\n",
    "            cnt+=1"
   ]
  },
  {
   "cell_type": "code",
   "execution_count": 43,
   "metadata": {},
   "outputs": [],
   "source": [
    "final_result=[]\n",
    "for result in results:\n",
    "    for item in result:\n",
    "        try:\n",
    "            if item[\"Is_lq\"]:\n",
    "                final_result.append({\"Sentence\":item['Sentence'],\"Is_lq\":\"True\",\"Q-type\":item['Question_type']['tag'],\"Context_noun\":item['Context_noun'],\"Context_verb\":item['Context_Verb']})\n",
    "            else:\n",
    "                final_result.append({\"Sentence\":item['Sentence'],\"Is_lq\":\"False\"})\n",
    "        except TypeError as exe:\n",
    "            final_result.append({\"Sentence\":item['Sentence'],\"Is_lq\":\"True\",\"Q-type\":\"Not question\",\"Context_noun\":item['Context_noun'],\"Context_verb\":item['Context_Verb']})\n",
    "            pass                  "
   ]
  },
  {
   "cell_type": "code",
   "execution_count": 44,
   "metadata": {},
   "outputs": [],
   "source": [
    "final_df = pd.DataFrame(final_result)"
   ]
  },
  {
   "cell_type": "code",
   "execution_count": 45,
   "metadata": {},
   "outputs": [],
   "source": [
    "final_df.to_excel(\"/home/andy/Desktop/Pattern_lq_test_result.xlsx\")"
   ]
  },
  {
   "cell_type": "code",
   "execution_count": null,
   "metadata": {},
   "outputs": [],
   "source": []
  }
 ],
 "metadata": {
  "kernelspec": {
   "display_name": "Python3",
   "language": "python",
   "name": "python3"
  },
  "language_info": {
   "codemirror_mode": {
    "name": "ipython",
    "version": 3
   },
   "file_extension": ".py",
   "mimetype": "text/x-python",
   "name": "python",
   "nbconvert_exporter": "python",
   "pygments_lexer": "ipython3",
   "version": "3.6.8"
  }
 },
 "nbformat": 4,
 "nbformat_minor": 2
}
