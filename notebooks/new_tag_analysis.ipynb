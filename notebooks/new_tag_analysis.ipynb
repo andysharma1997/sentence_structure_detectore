{
 "cells": [
  {
   "cell_type": "code",
   "execution_count": null,
   "metadata": {},
   "outputs": [],
   "source": [
    "import pandas as pd \n",
    "import spacy\n",
    "import seaborn as sns\n",
    "import os\n",
    "sns.set()\n",
    "nlp=spacy.load('en_core_web_sm')"
   ]
  },
  {
   "cell_type": "code",
   "execution_count": null,
   "metadata": {},
   "outputs": [],
   "source": [
    "df = pd.read_excel(os.path.join(os.path.abspath(\"../notebooks/data\"),\"razor_lq_data_tags.xlsx\"))"
   ]
  },
  {
   "cell_type": "code",
   "execution_count": null,
   "metadata": {},
   "outputs": [],
   "source": [
    "df.columns"
   ]
  },
  {
   "cell_type": "code",
   "execution_count": null,
   "metadata": {},
   "outputs": [],
   "source": [
    "df.rename(columns={\"Unnamed: 0\":\"sentences\",\"Unnamed: 1\":'tags'},inplace=True)\n",
    "df.fillna(\"0\",inplace=True)"
   ]
  },
  {
   "cell_type": "code",
   "execution_count": null,
   "metadata": {},
   "outputs": [],
   "source": [
    "df.head()"
   ]
  },
  {
   "cell_type": "code",
   "execution_count": null,
   "metadata": {},
   "outputs": [],
   "source": [
    "!pip install python-Levenshtein\n",
    "from Levenshtein import distance as levenshtein_distance"
   ]
  },
  {
   "cell_type": "code",
   "execution_count": null,
   "metadata": {},
   "outputs": [],
   "source": [
    "# The List of valid Tags.\n",
    "real_tags = [\n",
    " 'adjective',\n",
    " 'adverb',\n",
    " 'article',\n",
    " 'conjunction',\n",
    " 'contextnoun',\n",
    " 'determiner',\n",
    " 'do',\n",
    " 'domainnoun',\n",
    " 'noun',\n",
    " 'personentitynouns',\n",
    " 'possessive',\n",
    " 'preposition',\n",
    " 'pronoun',\n",
    " 'question',\n",
    " 'tense',\n",
    " 'verb',\n",
    " 'wquestion']"
   ]
  },
  {
   "cell_type": "code",
   "execution_count": null,
   "metadata": {},
   "outputs": [],
   "source": [
    "with open(\"/path/to/file/test_3.txt\",'a') as fp:\n",
    "    for i,val in df.iterrows():\n",
    "        if val[1] !='0':\n",
    "            doc = nlp(val[0])\n",
    "            token_string=''\n",
    "            pos_sting = ''\n",
    "            tag_string=''\n",
    "            spacy_tag = ''\n",
    "            for tok in doc:\n",
    "                token_string+=''.join(str(tok))+\"  |  \"\n",
    "                pos_sting+=''.join(str(tok.pos_))+\"  |  \"\n",
    "                spacy_tag+=''.join(str(tok.tag_))+\"  |  \"\n",
    "            tags = val[1].split(\"><\")\n",
    "            tags[0]=tags[0][1:]\n",
    "            tags[-1]=tags[-1][:-1]\n",
    "            for tag in tags:\n",
    "              max_distance = 100\n",
    "              for real_tag in real_tags:\n",
    "                distance = levenshtein_distance(real_tag,tag)\n",
    "                if distance < max_distance:\n",
    "                  max_distance = distance\n",
    "                  cleaned_tag = real_tag                \n",
    "              tag_string+=''.join(cleaned_tag)+\"  |  \"\n",
    "\n",
    "            fp.write(\"\\n\")\n",
    "            fp.write(token_string[:-1])\n",
    "            fp.write(\"\\n\")\n",
    "            fp.write(tag_string[:-1])\n",
    "            fp.write(\"\\n\")\n",
    "            fp.write(spacy_tag[:-1])\n",
    "            fp.write(\"\\n\")\n",
    "            fp.write(pos_sting[:-1])\n",
    "            fp.write(\"\\n\")\n",
    "            fp.write(\"\\n\")\n",
    "            fp.write(\"\\n\")\n",
    "            print(\"done {} rows\".format(i))\n",
    "        else:\n",
    "            print(\"skipping {} row\".format(i))"
   ]
  },
  {
   "cell_type": "markdown",
   "metadata": {},
   "source": [
    "counting the no_of tags"
   ]
  },
  {
   "cell_type": "code",
   "execution_count": null,
   "metadata": {},
   "outputs": [],
   "source": [
    "tag_set=set()\n",
    "for i,val in df.iterrows():\n",
    "    if val[1]!='0':\n",
    "        tags = val[1].split(\"><\")\n",
    "        tags[0]=tags[0][1:]\n",
    "        tags[-1]=tags[-1][:-1]\n",
    "        for item in tags:\n",
    "            tag_set.add(item)"
   ]
  },
  {
   "cell_type": "code",
   "execution_count": null,
   "metadata": {},
   "outputs": [],
   "source": [
    "tag_set"
   ]
  },
  {
   "cell_type": "code",
   "execution_count": null,
   "metadata": {},
   "outputs": [],
   "source": [
    "adj=['adejective','adjective']\n",
    "adverb=[\"adverb\"]\n",
    "article=['article',\"aticle\"]\n",
    "contextnoun=['ccontextnoun','contentextnoun','context noun','contextnoun','contextnun']\n",
    "conjunction = ['conjunction']\n",
    "determiner = [\"determiner\"]\n",
    "auxilary = [\"do\"]\n",
    "domain_noun=['domainnoun']\n"
   ]
  },
  {
   "cell_type": "code",
   "execution_count": null,
   "metadata": {},
   "outputs": [],
   "source": [
    "tag_set"
   ]
  },
  {
   "cell_type": "code",
   "execution_count": null,
   "metadata": {},
   "outputs": [],
   "source": []
  }
 ],
 "metadata": {
  "kernelspec": {
   "display_name": "Python 3",
   "language": "python",
   "name": "python3"
  },
  "language_info": {
   "codemirror_mode": {
    "name": "ipython",
    "version": 3
   },
   "file_extension": ".py",
   "mimetype": "text/x-python",
   "name": "python",
   "nbconvert_exporter": "python",
   "pygments_lexer": "ipython3",
   "version": "3.8.1"
  }
 },
 "nbformat": 4,
 "nbformat_minor": 2
}
